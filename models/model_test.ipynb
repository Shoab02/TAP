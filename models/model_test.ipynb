{
 "cells": [
  {
   "cell_type": "code",
   "execution_count": 1,
   "id": "51b18ebb",
   "metadata": {},
   "outputs": [],
   "source": [
    "import pandas as pd\n",
    "import numpy as np\n",
    "import pickle"
   ]
  },
  {
   "cell_type": "code",
   "execution_count": 2,
   "id": "35463a90",
   "metadata": {},
   "outputs": [],
   "source": [
    "preprocess = pickle.load(open('prep_pipe.pkl','rb'))\n",
    "model = pickle.load(open('model.pkl','rb'))"
   ]
  },
  {
   "cell_type": "code",
   "execution_count": 3,
   "id": "07a0fecc",
   "metadata": {},
   "outputs": [],
   "source": [
    "features = ['YearBuilt','Floor','HallwayType','HeatingType','AptManageType',\n",
    "            'TimeToBusStop','TimeToSubway','SubwayStation',\n",
    "            'Size(sqf)','N_Parkinglot(Basement)']\n",
    "\n",
    "test_feature = [1985,8,'corridor','individual_heating,','self_management','0~5min','5min~10min','Daegu', 587, 76.0]"
   ]
  },
  {
   "cell_type": "code",
   "execution_count": 4,
   "id": "8b437bfc",
   "metadata": {},
   "outputs": [],
   "source": [
    "prepped_features = preprocess.transform(pd.DataFrame(np.array(test_feature).reshape(1,10),columns=features))\n"
   ]
  },
  {
   "cell_type": "code",
   "execution_count": 6,
   "id": "03b3b6b8",
   "metadata": {},
   "outputs": [
    {
     "data": {
      "text/plain": [
       "array([[0.        , 0.        , 0.        , 0.        , 0.        ,\n",
       "        0.        , 0.        , 0.        , 0.        , 0.        ,\n",
       "        0.        , 0.        , 0.        , 0.        , 0.        ,\n",
       "        0.        , 0.        , 0.        , 0.        , 0.        ,\n",
       "        0.        , 0.        , 0.        , 0.        , 0.        ,\n",
       "        0.        , 0.        , 0.        , 0.        , 0.        ,\n",
       "        0.        , 0.        , 0.        , 0.        , 0.        ,\n",
       "        0.        , 0.        , 0.        , 0.        , 0.        ,\n",
       "        0.        , 0.        , 0.        , 0.        , 0.        ,\n",
       "        0.        , 0.        , 0.        , 0.        , 0.        ,\n",
       "        0.        , 0.        , 0.        , 0.        , 0.        ,\n",
       "        0.        , 0.        , 0.        , 0.        , 3.24981979,\n",
       "        0.        , 0.        , 0.        , 0.        , 0.        ,\n",
       "        4.18126503, 2.34780287, 0.        , 0.        , 0.        ,\n",
       "        0.        , 0.        , 2.51554721, 0.        , 0.        ,\n",
       "        0.        , 0.        , 8.32494541, 0.        , 0.        ,\n",
       "        0.        , 0.        , 0.20526794, 0.05753217]])"
      ]
     },
     "execution_count": 6,
     "metadata": {},
     "output_type": "execute_result"
    }
   ],
   "source": [
    "prepped_features.toarray()"
   ]
  },
  {
   "cell_type": "code",
   "execution_count": 7,
   "id": "75f9df52",
   "metadata": {},
   "outputs": [
    {
     "data": {
      "text/plain": [
       "array([78364.35674206])"
      ]
     },
     "execution_count": 7,
     "metadata": {},
     "output_type": "execute_result"
    }
   ],
   "source": [
    "pred_price = model.predict(prepped_features)\n",
    "pred_price"
   ]
  },
  {
   "cell_type": "code",
   "execution_count": null,
   "id": "edcd15d4",
   "metadata": {},
   "outputs": [],
   "source": [
    "[1985,8,'corridor','individual_heating,','self_management','0~5min','5min~10min','Daegu', 587, 76.0]\n",
    "\n",
    "{\n",
    "  \"year_built\": 1985,\n",
    "  \"size_sqf\": 587,\n",
    "  \"floor\": 8,\n",
    "  \"hallway\": \"corridor\",\n",
    "  \"heating\": \"individual_heating\",\n",
    "  \"management\": \"self_management\",\n",
    "  \"nearest_subway\": \"Daegu\",\n",
    "  \"time_to_subway\": \"5min~10min\",\n",
    "  \"time_to_bus_stop\": \"0~5min\",\n",
    "  \"parking_basement\": 76.0\n",
    "}"
   ]
  }
 ],
 "metadata": {
  "kernelspec": {
   "display_name": "Python 3 (ipykernel)",
   "language": "python",
   "name": "python3"
  },
  "language_info": {
   "codemirror_mode": {
    "name": "ipython",
    "version": 3
   },
   "file_extension": ".py",
   "mimetype": "text/x-python",
   "name": "python",
   "nbconvert_exporter": "python",
   "pygments_lexer": "ipython3",
   "version": "3.10.7"
  }
 },
 "nbformat": 4,
 "nbformat_minor": 5
}
